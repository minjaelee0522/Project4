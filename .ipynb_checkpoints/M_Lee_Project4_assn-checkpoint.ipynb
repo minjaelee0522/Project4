{
 "cells": [
  {
   "cell_type": "code",
   "execution_count": 1,
   "id": "cc089aa0",
   "metadata": {},
   "outputs": [],
   "source": [
    "import pandas as pd\n",
    "import numpy as np\n",
    "import matplotlib.pyplot as plt\n",
    "import seaborn as sns"
   ]
  },
  {
   "cell_type": "markdown",
   "id": "32934bee",
   "metadata": {},
   "source": [
    "# Phase I: Data Acquisition, Data Preparation & Exploratory Data Analysis (60 Points)"
   ]
  },
  {
   "cell_type": "markdown",
   "id": "47205a64",
   "metadata": {},
   "source": [
    "## 1. Construct a professional-quality introductory narrative that explains the purpose and objectives of your work."
   ]
  },
  {
   "cell_type": "markdown",
   "id": "03b3b7ef",
   "metadata": {},
   "source": [
    "In today's competitive business landscape, companies are constantly seeking ways to improve their customer retention and sales practices. One effective strategy is to broaden relationships with existing customers by offering them additional products or services. However, identifying which customers are most likely to purchase these additional products can be a challenging task. This is where predictive modeling comes into play.\n",
    "\n",
    "As a data analyst, my task is to develop a predictive model that can accurately predict whether an existing customer is likely to purchase an additional product. To achieve this, I will be using a dataset containing more than 14,000 observations of customer behavior, including their age, loyalty level, relationship length with the company, and their buying behavior of two other products (Product A and Product B). I will use scikit-learn, a popular Python library for machine learning, to analyze the data and identify the most relevant variables for predicting the target variable (whether a customer will purchase an additional product).\n",
    "\n",
    "The objectives of this project are twofold: first, to identify which attributes are the best predictors of whether a customer will purchase an additional product, and second, to develop a predictive model that can accurately predict this behavior. By achieving these objectives, the company can improve its customer retention and sales practices by offering the right products to the right customers, ultimately leading to increased customer satisfaction and revenue growth.\n",
    "\n",
    "Overall, this project demonstrates the power of data analytics and predictive modeling in providing valuable insights for businesses to make informed decisions and drive success."
   ]
  },
  {
   "cell_type": "markdown",
   "id": "62fb9b8d",
   "metadata": {},
   "source": [
    "## 2. Load the provided dataset to you Github repository and read it from your Github repository into Jupyter Notebook."
   ]
  },
  {
   "cell_type": "code",
   "execution_count": 2,
   "id": "1890b8e5",
   "metadata": {},
   "outputs": [
    {
     "data": {
      "text/html": [
       "<div>\n",
       "<style scoped>\n",
       "    .dataframe tbody tr th:only-of-type {\n",
       "        vertical-align: middle;\n",
       "    }\n",
       "\n",
       "    .dataframe tbody tr th {\n",
       "        vertical-align: top;\n",
       "    }\n",
       "\n",
       "    .dataframe thead th {\n",
       "        text-align: right;\n",
       "    }\n",
       "</style>\n",
       "<table border=\"1\" class=\"dataframe\">\n",
       "  <thead>\n",
       "    <tr style=\"text-align: right;\">\n",
       "      <th></th>\n",
       "      <th>TARGET</th>\n",
       "      <th>loyalty</th>\n",
       "      <th>ID</th>\n",
       "      <th>age</th>\n",
       "      <th>city</th>\n",
       "      <th>prod_A</th>\n",
       "      <th>type_A</th>\n",
       "      <th>type_B</th>\n",
       "      <th>prod_B</th>\n",
       "      <th>turnover_A</th>\n",
       "      <th>turnover_B</th>\n",
       "      <th>age_P</th>\n",
       "      <th>lor_M</th>\n",
       "    </tr>\n",
       "  </thead>\n",
       "  <tbody>\n",
       "    <tr>\n",
       "      <th>0</th>\n",
       "      <td>Y</td>\n",
       "      <td>99</td>\n",
       "      <td>77</td>\n",
       "      <td>66</td>\n",
       "      <td>2</td>\n",
       "      <td>0</td>\n",
       "      <td>0</td>\n",
       "      <td>0</td>\n",
       "      <td>0</td>\n",
       "      <td>333.561114</td>\n",
       "      <td>264.721010</td>\n",
       "      <td>66</td>\n",
       "      <td>3</td>\n",
       "    </tr>\n",
       "    <tr>\n",
       "      <th>1</th>\n",
       "      <td>Y</td>\n",
       "      <td>1</td>\n",
       "      <td>159</td>\n",
       "      <td>45</td>\n",
       "      <td>2</td>\n",
       "      <td>1</td>\n",
       "      <td>3</td>\n",
       "      <td>3</td>\n",
       "      <td>1</td>\n",
       "      <td>394.735699</td>\n",
       "      <td>284.904978</td>\n",
       "      <td>45</td>\n",
       "      <td>39</td>\n",
       "    </tr>\n",
       "    <tr>\n",
       "      <th>2</th>\n",
       "      <td>Y</td>\n",
       "      <td>1</td>\n",
       "      <td>220</td>\n",
       "      <td>42</td>\n",
       "      <td>2</td>\n",
       "      <td>1</td>\n",
       "      <td>3</td>\n",
       "      <td>6</td>\n",
       "      <td>1</td>\n",
       "      <td>342.180990</td>\n",
       "      <td>1175.589721</td>\n",
       "      <td>42</td>\n",
       "      <td>27</td>\n",
       "    </tr>\n",
       "    <tr>\n",
       "      <th>3</th>\n",
       "      <td>Y</td>\n",
       "      <td>99</td>\n",
       "      <td>303</td>\n",
       "      <td>31</td>\n",
       "      <td>2</td>\n",
       "      <td>0</td>\n",
       "      <td>0</td>\n",
       "      <td>0</td>\n",
       "      <td>0</td>\n",
       "      <td>453.757916</td>\n",
       "      <td>242.341754</td>\n",
       "      <td>31</td>\n",
       "      <td>3</td>\n",
       "    </tr>\n",
       "    <tr>\n",
       "      <th>4</th>\n",
       "      <td>Y</td>\n",
       "      <td>99</td>\n",
       "      <td>306</td>\n",
       "      <td>62</td>\n",
       "      <td>2</td>\n",
       "      <td>0</td>\n",
       "      <td>0</td>\n",
       "      <td>0</td>\n",
       "      <td>0</td>\n",
       "      <td>384.577469</td>\n",
       "      <td>287.008370</td>\n",
       "      <td>62</td>\n",
       "      <td>3</td>\n",
       "    </tr>\n",
       "  </tbody>\n",
       "</table>\n",
       "</div>"
      ],
      "text/plain": [
       "  TARGET  loyalty   ID  age  city  prod_A  type_A  type_B  prod_B  turnover_A  \\\n",
       "0      Y       99   77   66     2       0       0       0       0  333.561114   \n",
       "1      Y        1  159   45     2       1       3       3       1  394.735699   \n",
       "2      Y        1  220   42     2       1       3       6       1  342.180990   \n",
       "3      Y       99  303   31     2       0       0       0       0  453.757916   \n",
       "4      Y       99  306   62     2       0       0       0       0  384.577469   \n",
       "\n",
       "    turnover_B  age_P  lor_M  \n",
       "0   264.721010     66      3  \n",
       "1   284.904978     45     39  \n",
       "2  1175.589721     42     27  \n",
       "3   242.341754     31      3  \n",
       "4   287.008370     62      3  "
      ]
     },
     "execution_count": 2,
     "metadata": {},
     "output_type": "execute_result"
    }
   ],
   "source": [
    "# Load data\n",
    "url_csv = \"https://raw.githubusercontent.com/minjaelee0522/Project4/master/Project%204%20DATA.csv\"\n",
    "df = pd.read_csv(url_csv)\n",
    "df.head()"
   ]
  },
  {
   "cell_type": "markdown",
   "id": "522624f3",
   "metadata": {},
   "source": [
    "## 3. Study the dataset and the associated description of the data (i.e. “data dictionary”)."
   ]
  },
  {
   "cell_type": "markdown",
   "id": "025a8118",
   "metadata": {},
   "source": [
    "The dataset provided for this project contains information about customers to whom a company offered a new product, along with some customer information and information about their buying behavior of two other products (Product A and Product B). The dataset consists of more than 14,000 observations of 1 response/dependent variable (which indicates whether or not the new product was purchased) and 11 explanatory/independent variables. The data dictionary for the dataset is provided below:\n",
    "\n",
    "ID: Unique customer identifier   \n",
    "TARGET: Indicator of customer buying the new product (N = no, Y = yes)   \n",
    "Loyalty: Customer loyalty level, from low to high (0 to 3), 99 = unclassified   \n",
    "Age: Customer age in years   \n",
    "City: Unique code per city (where the customer resides)   \n",
    "Age_p: Age of customer’s partner in years   \n",
    "LOR_m: Length of customer’s relationship with company (in months)   \n",
    "Prod_A: Customer previously bought Product A (0=no, 1=yes)   \n",
    "Type_A: Type of product A   \n",
    "Turnover_A: Amount of money customer spent on Product A   \n",
    "Prod_B: Customer previously bought Product B (0=no, 1=yes)   \n",
    "Type_B: Type of product B   \n",
    "Turnover_B: Amount of money customer spent on Product B   \n",
    "\n",
    "The \"TARGET\" variable is the dependent variable we want to predict, and the other variables are potential predictors. The \"Loyalty\" variable indicates the customer loyalty level, and the value 99 indicates that the customer's loyalty level is unclassified. The \"Age_p\" variable indicates the age of the customer's partner, and the \"LOR_m\" variable indicates the length of the customer's relationship with the company in months. The \"Prod_A\" and \"Prod_B\" variables indicate whether the customer previously bought Product A or Product B, and the \"Type_A\" and \"Type_B\" variables indicate the type of Product A or Product B. Finally, the \"Turnover_A\" and \"Turnover_B\" variables indicate the amount of money the customer spent on Product A and Product B, respectively.\n",
    "\n",
    "By analyzing this dataset, we can identify which attributes are the best predictors of whether a customer will purchase an additional product, and develop a predictive model that can accurately predict this behavior."
   ]
  },
  {
   "cell_type": "markdown",
   "id": "4c7c8bc4",
   "metadata": {},
   "source": [
    "## 4. Create a pandas DataFrame with a subset of the columns in the dataset. You should include the TARGET column, which indicates whether or not a customer purchased an additional product, the Age, Type_A, Type_B, lor_M columns, and at least two other columns of your choosing."
   ]
  },
  {
   "cell_type": "code",
   "execution_count": 3,
   "id": "d94b962a",
   "metadata": {},
   "outputs": [
    {
     "data": {
      "text/html": [
       "<div>\n",
       "<style scoped>\n",
       "    .dataframe tbody tr th:only-of-type {\n",
       "        vertical-align: middle;\n",
       "    }\n",
       "\n",
       "    .dataframe tbody tr th {\n",
       "        vertical-align: top;\n",
       "    }\n",
       "\n",
       "    .dataframe thead th {\n",
       "        text-align: right;\n",
       "    }\n",
       "</style>\n",
       "<table border=\"1\" class=\"dataframe\">\n",
       "  <thead>\n",
       "    <tr style=\"text-align: right;\">\n",
       "      <th></th>\n",
       "      <th>TARGET</th>\n",
       "      <th>age</th>\n",
       "      <th>type_A</th>\n",
       "      <th>type_B</th>\n",
       "      <th>lor_M</th>\n",
       "      <th>prod_A</th>\n",
       "      <th>prod_B</th>\n",
       "      <th>loyalty</th>\n",
       "    </tr>\n",
       "  </thead>\n",
       "  <tbody>\n",
       "    <tr>\n",
       "      <th>0</th>\n",
       "      <td>Y</td>\n",
       "      <td>66</td>\n",
       "      <td>0</td>\n",
       "      <td>0</td>\n",
       "      <td>3</td>\n",
       "      <td>0</td>\n",
       "      <td>0</td>\n",
       "      <td>99</td>\n",
       "    </tr>\n",
       "    <tr>\n",
       "      <th>1</th>\n",
       "      <td>Y</td>\n",
       "      <td>45</td>\n",
       "      <td>3</td>\n",
       "      <td>3</td>\n",
       "      <td>39</td>\n",
       "      <td>1</td>\n",
       "      <td>1</td>\n",
       "      <td>1</td>\n",
       "    </tr>\n",
       "    <tr>\n",
       "      <th>2</th>\n",
       "      <td>Y</td>\n",
       "      <td>42</td>\n",
       "      <td>3</td>\n",
       "      <td>6</td>\n",
       "      <td>27</td>\n",
       "      <td>1</td>\n",
       "      <td>1</td>\n",
       "      <td>1</td>\n",
       "    </tr>\n",
       "    <tr>\n",
       "      <th>3</th>\n",
       "      <td>Y</td>\n",
       "      <td>31</td>\n",
       "      <td>0</td>\n",
       "      <td>0</td>\n",
       "      <td>3</td>\n",
       "      <td>0</td>\n",
       "      <td>0</td>\n",
       "      <td>99</td>\n",
       "    </tr>\n",
       "    <tr>\n",
       "      <th>4</th>\n",
       "      <td>Y</td>\n",
       "      <td>62</td>\n",
       "      <td>0</td>\n",
       "      <td>0</td>\n",
       "      <td>3</td>\n",
       "      <td>0</td>\n",
       "      <td>0</td>\n",
       "      <td>99</td>\n",
       "    </tr>\n",
       "  </tbody>\n",
       "</table>\n",
       "</div>"
      ],
      "text/plain": [
       "  TARGET  age  type_A  type_B  lor_M  prod_A  prod_B  loyalty\n",
       "0      Y   66       0       0      3       0       0       99\n",
       "1      Y   45       3       3     39       1       1        1\n",
       "2      Y   42       3       6     27       1       1        1\n",
       "3      Y   31       0       0      3       0       0       99\n",
       "4      Y   62       0       0      3       0       0       99"
      ]
     },
     "execution_count": 3,
     "metadata": {},
     "output_type": "execute_result"
    }
   ],
   "source": [
    "# Select the subset columns\n",
    "subset_cols = ['TARGET', 'age', 'type_A', 'type_B', 'lor_M', 'prod_A', 'prod_B','loyalty']\n",
    "df_subset = df[subset_cols]\n",
    "df_subset.head()"
   ]
  },
  {
   "cell_type": "markdown",
   "id": "ef1c37a1",
   "metadata": {},
   "source": [
    "## 5. Convert the TARGET indicators in the first column to digits: for example, the “N” might become 0 and “Y” might become 1."
   ]
  },
  {
   "cell_type": "code",
   "execution_count": 4,
   "id": "dc0620a6",
   "metadata": {
    "scrolled": true
   },
   "outputs": [
    {
     "name": "stderr",
     "output_type": "stream",
     "text": [
      "/var/folders/gl/hkj_86357f7cty4knl92kz6h0000gn/T/ipykernel_13568/1519447308.py:1: SettingWithCopyWarning: \n",
      "A value is trying to be set on a copy of a slice from a DataFrame.\n",
      "Try using .loc[row_indexer,col_indexer] = value instead\n",
      "\n",
      "See the caveats in the documentation: https://pandas.pydata.org/pandas-docs/stable/user_guide/indexing.html#returning-a-view-versus-a-copy\n",
      "  df_subset['TARGET'] = df_subset['TARGET'].replace({'N': 0, 'Y': 1})\n"
     ]
    },
    {
     "data": {
      "text/html": [
       "<div>\n",
       "<style scoped>\n",
       "    .dataframe tbody tr th:only-of-type {\n",
       "        vertical-align: middle;\n",
       "    }\n",
       "\n",
       "    .dataframe tbody tr th {\n",
       "        vertical-align: top;\n",
       "    }\n",
       "\n",
       "    .dataframe thead th {\n",
       "        text-align: right;\n",
       "    }\n",
       "</style>\n",
       "<table border=\"1\" class=\"dataframe\">\n",
       "  <thead>\n",
       "    <tr style=\"text-align: right;\">\n",
       "      <th></th>\n",
       "      <th>TARGET</th>\n",
       "      <th>age</th>\n",
       "      <th>type_A</th>\n",
       "      <th>type_B</th>\n",
       "      <th>lor_M</th>\n",
       "      <th>prod_A</th>\n",
       "      <th>prod_B</th>\n",
       "      <th>loyalty</th>\n",
       "    </tr>\n",
       "  </thead>\n",
       "  <tbody>\n",
       "    <tr>\n",
       "      <th>0</th>\n",
       "      <td>1</td>\n",
       "      <td>66</td>\n",
       "      <td>0</td>\n",
       "      <td>0</td>\n",
       "      <td>3</td>\n",
       "      <td>0</td>\n",
       "      <td>0</td>\n",
       "      <td>99</td>\n",
       "    </tr>\n",
       "    <tr>\n",
       "      <th>1</th>\n",
       "      <td>1</td>\n",
       "      <td>45</td>\n",
       "      <td>3</td>\n",
       "      <td>3</td>\n",
       "      <td>39</td>\n",
       "      <td>1</td>\n",
       "      <td>1</td>\n",
       "      <td>1</td>\n",
       "    </tr>\n",
       "    <tr>\n",
       "      <th>2</th>\n",
       "      <td>1</td>\n",
       "      <td>42</td>\n",
       "      <td>3</td>\n",
       "      <td>6</td>\n",
       "      <td>27</td>\n",
       "      <td>1</td>\n",
       "      <td>1</td>\n",
       "      <td>1</td>\n",
       "    </tr>\n",
       "    <tr>\n",
       "      <th>3</th>\n",
       "      <td>1</td>\n",
       "      <td>31</td>\n",
       "      <td>0</td>\n",
       "      <td>0</td>\n",
       "      <td>3</td>\n",
       "      <td>0</td>\n",
       "      <td>0</td>\n",
       "      <td>99</td>\n",
       "    </tr>\n",
       "    <tr>\n",
       "      <th>4</th>\n",
       "      <td>1</td>\n",
       "      <td>62</td>\n",
       "      <td>0</td>\n",
       "      <td>0</td>\n",
       "      <td>3</td>\n",
       "      <td>0</td>\n",
       "      <td>0</td>\n",
       "      <td>99</td>\n",
       "    </tr>\n",
       "  </tbody>\n",
       "</table>\n",
       "</div>"
      ],
      "text/plain": [
       "   TARGET  age  type_A  type_B  lor_M  prod_A  prod_B  loyalty\n",
       "0       1   66       0       0      3       0       0       99\n",
       "1       1   45       3       3     39       1       1        1\n",
       "2       1   42       3       6     27       1       1        1\n",
       "3       1   31       0       0      3       0       0       99\n",
       "4       1   62       0       0      3       0       0       99"
      ]
     },
     "execution_count": 4,
     "metadata": {},
     "output_type": "execute_result"
    }
   ],
   "source": [
    "df_subset['TARGET'] = df_subset['TARGET'].replace({'N': 0, 'Y': 1})\n",
    "df_subset.head()"
   ]
  },
  {
   "cell_type": "markdown",
   "id": "6a6dcec3",
   "metadata": {},
   "source": [
    "To convert the TARGET indicators in the first column to digits, we can use the replace() method of the pandas DataFrame to replace the values 'N' and 'Y' with 0 and 1. This will replace all occurrences of 'N' and 'Y' in the 'TARGET' column with 0 and 1, respectively. The resulting 'TARGET' column will be a numeric column with values 0 and 1 representing whether or not a customer purchased the additional product."
   ]
  },
  {
   "cell_type": "markdown",
   "id": "1db4235e",
   "metadata": {},
   "source": [
    "## 6. Perform exploratory data analysis: show the distribution of data for each of the columns you selected (including the Age, Type_A, Type_B, lor_M columns), and show plots for TARGET vs. Age, TARGET vs. Type_A, TARGET vs. Type_B, TARGET vs. lor_M, as well as the other columns that you selected. It is up to you to decide which types of plots to use for these tasks. Include text describing your EDA findings."
   ]
  },
  {
   "cell_type": "code",
   "execution_count": 5,
   "id": "8f09c54a",
   "metadata": {
    "scrolled": false
   },
   "outputs": [
    {
     "data": {
      "image/png": "[encoded data removed]",
      "text/plain": [
       "<Figure size 432x288 with 1 Axes>"
      ]
     },
     "metadata": {
      "needs_background": "light"
     },
     "output_type": "display_data"
    },
    {
     "data": {
      "image/png": "[encoded data removed]",
      "text/plain": [
       "<Figure size 432x288 with 1 Axes>"
      ]
     },
     "metadata": {
      "needs_background": "light"
     },
     "output_type": "display_data"
    },
    {
     "data": {
      "image/png": "[encoded data removed]",
      "text/plain": [
       "<Figure size 432x288 with 1 Axes>"
      ]
     },
     "metadata": {
      "needs_background": "light"
     },
     "output_type": "display_data"
    },
    {
     "data": {
      "image/png": "[encoded data removed]",
      "text/plain": [
       "<Figure size 432x288 with 1 Axes>"
      ]
     },
     "metadata": {
      "needs_background": "light"
     },
     "output_type": "display_data"
    },
    {
     "data": {
      "image/png": "[encoded data removed]",
      "text/plain": [
       "<Figure size 432x288 with 1 Axes>"
      ]
     },
     "metadata": {
      "needs_background": "light"
     },
     "output_type": "display_data"
    },
    {
     "data": {
      "image/png": "[encoded data removed]",
      "text/plain": [
       "<Figure size 432x288 with 1 Axes>"
      ]
     },
     "metadata": {
      "needs_background": "light"
     },
     "output_type": "display_data"
    },
    {
     "data": {
      "image/png": "[encoded data removed]",
      "text/plain": [
       "<Figure size 432x288 with 1 Axes>"
      ]
     },
     "metadata": {
      "needs_background": "light"
     },
     "output_type": "display_data"
    },
    {
     "data": {
      "image/png": "[encoded data removed]",
      "text/plain": [
       "<Figure size 432x288 with 1 Axes>"
      ]
     },
     "metadata": {
      "needs_background": "light"
     },
     "output_type": "display_data"
    },
    {
     "data": {
      "image/png": "[encoded data removed]",
      "text/plain": [
       "<Figure size 432x288 with 1 Axes>"
      ]
     },
     "metadata": {
      "needs_background": "light"
     },
     "output_type": "display_data"
    },
    {
     "data": {
      "image/png": "[encoded data removed]",
      "text/plain": [
       "<Figure size 432x288 with 1 Axes>"
      ]
     },
     "metadata": {
      "needs_background": "light"
     },
     "output_type": "display_data"
    },
    {
     "data": {
      "image/png": "[encoded data removed]",
      "text/plain": [
       "<Figure size 432x288 with 1 Axes>"
      ]
     },
     "metadata": {
      "needs_background": "light"
     },
     "output_type": "display_data"
    },
    {
     "data": {
      "image/png": "[encoded data removed]",
      "text/plain": [
       "<Figure size 432x288 with 1 Axes>"
      ]
     },
     "metadata": {
      "needs_background": "light"
     },
     "output_type": "display_data"
    },
    {
     "data": {
      "image/png": "[encoded data removed]",
      "text/plain": [
       "<Figure size 432x288 with 1 Axes>"
      ]
     },
     "metadata": {
      "needs_background": "light"
     },
     "output_type": "display_data"
    },
    {
     "data": {
      "image/png": "[encoded data removed]",
      "text/plain": [
       "<Figure size 432x288 with 1 Axes>"
      ]
     },
     "metadata": {
      "needs_background": "light"
     },
     "output_type": "display_data"
    }
   ],
   "source": [
    "# Show the distribution of Age\n",
    "sns.histplot(data=df_subset, x='age', kde=True)\n",
    "plt.title('Distribution of Age')\n",
    "plt.show()\n",
    "\n",
    "# Show the distribution of Lor_M\n",
    "sns.histplot(data=df_subset, x='lor_M', kde=True)\n",
    "plt.title('Distribution of Length of Relationship')\n",
    "plt.show()\n",
    "\n",
    "# Show the distribution of Type_A\n",
    "sns.countplot(data=df_subset, x='type_A')\n",
    "plt.title('Distribution of Product Type A')\n",
    "plt.show()\n",
    "\n",
    "# Show the distribution of Type_B\n",
    "sns.countplot(data=df_subset, x='type_B')\n",
    "plt.title('Distribution of Product Type B')\n",
    "plt.show()\n",
    "\n",
    "# Show the distribution of Prod_A\n",
    "sns.countplot(data=df_subset, x='prod_A')\n",
    "plt.title('Distribution of Product A')\n",
    "plt.show()\n",
    "\n",
    "# Show the distribution of Prod_B\n",
    "sns.countplot(data=df_subset, x='prod_B')\n",
    "plt.title('Distribution of Product B')\n",
    "plt.show()\n",
    "\n",
    "# Show the distribution of Loyalty\n",
    "sns.countplot(data=df_subset, x='loyalty')\n",
    "plt.title('Distribution of Loyalty')\n",
    "plt.show()\n",
    "\n",
    "# Show the distribution of TARGET vs. Age\n",
    "sns.boxplot(data=df_subset, x='TARGET', y='age')\n",
    "plt.title('Distribution of Target vs. Age')\n",
    "plt.show()\n",
    "\n",
    "# Show the distribution of TARGET vs. Type_A\n",
    "sns.countplot(data=df_subset, x='TARGET', hue='type_A')\n",
    "plt.title('Distribution of Target vs. Product Type A')\n",
    "plt.show()\n",
    "\n",
    "# Show the distribution of TARGET vs. Type_B\n",
    "sns.countplot(data=df_subset, x='TARGET', hue='type_B')\n",
    "plt.title('Distribution of Target vs. Product Type B')\n",
    "plt.show()\n",
    "\n",
    "# Show the distribution of TARGET vs. lor_M\n",
    "sns.boxplot(data=df_subset, x='TARGET', y='lor_M')\n",
    "plt.title('Distribution of Target vs. Length of Relationship')\n",
    "plt.show()\n",
    "\n",
    "# Show the distribution of TARGET vs. prod_A\n",
    "sns.boxplot(data=df_subset, x='TARGET', y='prod_A')\n",
    "plt.title('Distribution of Target vs. Product A')\n",
    "plt.show()\n",
    "\n",
    "# Show the distribution of TARGET vs. prod_B\n",
    "sns.boxplot(data=df_subset, x='TARGET', y='prod_B')\n",
    "plt.title('Distribution of Target vs. Product B')\n",
    "plt.show()\n",
    "\n",
    "# Show the distribution of TARGET vs. Loyalty\n",
    "sns.boxplot(data=df_subset, x='TARGET', y='loyalty')\n",
    "plt.title('Distribution of Target vs. Loyalty')\n",
    "plt.show()"
   ]
  },
  {
   "cell_type": "markdown",
   "id": "195fe7ba",
   "metadata": {},
   "source": [
    "Age is mostly in the 20s to 40s. And the length of relationship is concentrated between 3 and 15. Type_A and type_B are concentrated in 0 and 3. The purchase of prod_B is higher than prod_A, and loyalty is concentrated at 99. The customer buying the new product is distributed from 20 to 40 years old, with an average of 40 years old. Type_A and type_b have a high purchase rate of 0."
   ]
  },
  {
   "cell_type": "markdown",
   "id": "adfb7635",
   "metadata": {},
   "source": [
    "## 7. Include some text describing your preliminary conclusions about whether any of the other columns you’ve included in your subset (i.e., aside from the TARGET indicator) could be helpful in predicting whether a specific customer is likely to purchase an additional product."
   ]
  },
  {
   "cell_type": "markdown",
   "id": "7324d7ea",
   "metadata": {},
   "source": [
    "The product types, Type_A and Type_B, are concentrated in the values 0 and 3, which suggests that many customers did not purchase these products or only purchased them a few times. The purchase rate for prod_B is higher than prod_A, which suggests that customers may be more interested in or have a greater need for prod_B.\n",
    "\n",
    "Loyalty is concentrated at 99, which suggests that many of the customers in the dataset have not been assigned a loyalty level by the company. Finally, the average age of customers who purchased the new product is 40 years old, which is slightly older than the overall age range of customers in the dataset. Additionally, customers who purchased the new product are more likely to have previously bought Type_A and Type_B products.\n",
    "\n",
    "These observations suggest that customer behavior and characteristics have a significant impact on whether a customer is likely to purchase an additional product. By considering these variables in a predictive model, we can identify the customers who are most likely to purchase additional products and develop targeted marketing strategies to encourage their purchasing behavior."
   ]
  },
  {
   "cell_type": "markdown",
   "id": "42b99f35",
   "metadata": {},
   "source": [
    "## 8. For both the Type_A and Type_B columns, create a set of dummy variables. This is necessary because your downstream processing in Project 4 using scikit-learn requires that categorical data values be converted to binary indicator variables. See the pandas get_dummies() method for one possible approach to doing this."
   ]
  },
  {
   "cell_type": "code",
   "execution_count": 6,
   "id": "324f347e",
   "metadata": {
    "scrolled": true
   },
   "outputs": [
    {
     "data": {
      "text/html": [
       "<div>\n",
       "<style scoped>\n",
       "    .dataframe tbody tr th:only-of-type {\n",
       "        vertical-align: middle;\n",
       "    }\n",
       "\n",
       "    .dataframe tbody tr th {\n",
       "        vertical-align: top;\n",
       "    }\n",
       "\n",
       "    .dataframe thead th {\n",
       "        text-align: right;\n",
       "    }\n",
       "</style>\n",
       "<table border=\"1\" class=\"dataframe\">\n",
       "  <thead>\n",
       "    <tr style=\"text-align: right;\">\n",
       "      <th></th>\n",
       "      <th>TARGET</th>\n",
       "      <th>age</th>\n",
       "      <th>lor_M</th>\n",
       "      <th>prod_A</th>\n",
       "      <th>prod_B</th>\n",
       "      <th>loyalty</th>\n",
       "      <th>type_A_0</th>\n",
       "      <th>type_A_3</th>\n",
       "      <th>type_A_6</th>\n",
       "      <th>type_B_0</th>\n",
       "      <th>type_B_3</th>\n",
       "      <th>type_B_6</th>\n",
       "      <th>type_B_9</th>\n",
       "    </tr>\n",
       "  </thead>\n",
       "  <tbody>\n",
       "    <tr>\n",
       "      <th>0</th>\n",
       "      <td>1</td>\n",
       "      <td>66</td>\n",
       "      <td>3</td>\n",
       "      <td>0</td>\n",
       "      <td>0</td>\n",
       "      <td>99</td>\n",
       "      <td>1</td>\n",
       "      <td>0</td>\n",
       "      <td>0</td>\n",
       "      <td>1</td>\n",
       "      <td>0</td>\n",
       "      <td>0</td>\n",
       "      <td>0</td>\n",
       "    </tr>\n",
       "    <tr>\n",
       "      <th>1</th>\n",
       "      <td>1</td>\n",
       "      <td>45</td>\n",
       "      <td>39</td>\n",
       "      <td>1</td>\n",
       "      <td>1</td>\n",
       "      <td>1</td>\n",
       "      <td>0</td>\n",
       "      <td>1</td>\n",
       "      <td>0</td>\n",
       "      <td>0</td>\n",
       "      <td>1</td>\n",
       "      <td>0</td>\n",
       "      <td>0</td>\n",
       "    </tr>\n",
       "    <tr>\n",
       "      <th>2</th>\n",
       "      <td>1</td>\n",
       "      <td>42</td>\n",
       "      <td>27</td>\n",
       "      <td>1</td>\n",
       "      <td>1</td>\n",
       "      <td>1</td>\n",
       "      <td>0</td>\n",
       "      <td>1</td>\n",
       "      <td>0</td>\n",
       "      <td>0</td>\n",
       "      <td>0</td>\n",
       "      <td>1</td>\n",
       "      <td>0</td>\n",
       "    </tr>\n",
       "    <tr>\n",
       "      <th>3</th>\n",
       "      <td>1</td>\n",
       "      <td>31</td>\n",
       "      <td>3</td>\n",
       "      <td>0</td>\n",
       "      <td>0</td>\n",
       "      <td>99</td>\n",
       "      <td>1</td>\n",
       "      <td>0</td>\n",
       "      <td>0</td>\n",
       "      <td>1</td>\n",
       "      <td>0</td>\n",
       "      <td>0</td>\n",
       "      <td>0</td>\n",
       "    </tr>\n",
       "    <tr>\n",
       "      <th>4</th>\n",
       "      <td>1</td>\n",
       "      <td>62</td>\n",
       "      <td>3</td>\n",
       "      <td>0</td>\n",
       "      <td>0</td>\n",
       "      <td>99</td>\n",
       "      <td>1</td>\n",
       "      <td>0</td>\n",
       "      <td>0</td>\n",
       "      <td>1</td>\n",
       "      <td>0</td>\n",
       "      <td>0</td>\n",
       "      <td>0</td>\n",
       "    </tr>\n",
       "  </tbody>\n",
       "</table>\n",
       "</div>"
      ],
      "text/plain": [
       "   TARGET  age  lor_M  prod_A  prod_B  loyalty  type_A_0  type_A_3  type_A_6  \\\n",
       "0       1   66      3       0       0       99         1         0         0   \n",
       "1       1   45     39       1       1        1         0         1         0   \n",
       "2       1   42     27       1       1        1         0         1         0   \n",
       "3       1   31      3       0       0       99         1         0         0   \n",
       "4       1   62      3       0       0       99         1         0         0   \n",
       "\n",
       "   type_B_0  type_B_3  type_B_6  type_B_9  \n",
       "0         1         0         0         0  \n",
       "1         0         1         0         0  \n",
       "2         0         0         1         0  \n",
       "3         1         0         0         0  \n",
       "4         1         0         0         0  "
      ]
     },
     "execution_count": 6,
     "metadata": {},
     "output_type": "execute_result"
    }
   ],
   "source": [
    "# Create dummy variables for Type_A\n",
    "type_a_dummies = pd.get_dummies(df_subset['type_A'], prefix='type_A')\n",
    "\n",
    "# Create dummy variables for Type_B\n",
    "type_b_dummies = pd.get_dummies(df_subset['type_B'], prefix='type_B')\n",
    "\n",
    "# Add the dummy variables to the original DataFrame\n",
    "df_final = pd.concat([df_subset, type_a_dummies, type_b_dummies], axis=1)\n",
    "\n",
    "# Drop the original Type_A and Type_B columns\n",
    "df_final = df_final.drop(['type_A', 'type_B'], axis=1)\n",
    "\n",
    "df_final.head()"
   ]
  },
  {
   "cell_type": "code",
   "execution_count": null,
   "id": "e5b9cc29",
   "metadata": {},
   "outputs": [],
   "source": []
  },
  {
   "cell_type": "markdown",
   "id": "8097f3e5",
   "metadata": {},
   "source": [
    "# Phase II: Build Predictive Models (40 Points)"
   ]
  },
  {
   "cell_type": "markdown",
   "id": "35e57954",
   "metadata": {},
   "source": [
    "## 1. Start with the data (including the dummy variables) in the pandas DataFrame that you constructed in Phase I."
   ]
  },
  {
   "cell_type": "markdown",
   "id": "ccc18501",
   "metadata": {},
   "source": [
    "## 2. Use scikit-learn to construct appropriate regression model(s) and use the information provided by those models to determine which of the predictor columns that you selected (including Age, Type_A, Type_B, lor_M) most accurately predicts whether or not a customer is likely to purchase an additional product. How you go about doing this with scikit-learn is up to you as a practitioner of data analytics."
   ]
  },
  {
   "cell_type": "code",
   "execution_count": 7,
   "id": "2b0aa4c5",
   "metadata": {},
   "outputs": [],
   "source": [
    "from sklearn.linear_model import LogisticRegression\n",
    "from sklearn.model_selection import train_test_split\n",
    "from sklearn.metrics import accuracy_score, precision_score, recall_score, f1_score, confusion_matrix, plot_confusion_matrix, plot_roc_curve"
   ]
  },
  {
   "cell_type": "code",
   "execution_count": 8,
   "id": "f5620934",
   "metadata": {},
   "outputs": [],
   "source": [
    "# Split the data into training and testing sets\n",
    "X = df_subset.drop(columns=['TARGET'])\n",
    "y = df_subset['TARGET']\n",
    "X_train, X_test, y_train, y_test = train_test_split(X, y, test_size=0.3, random_state=42)"
   ]
  },
  {
   "cell_type": "code",
   "execution_count": 9,
   "id": "d04aee1a",
   "metadata": {},
   "outputs": [
    {
     "name": "stdout",
     "output_type": "stream",
     "text": [
      "Accuracy: 0.7212841854934602\n",
      "Precision: 0.6910963052695336\n",
      "Recall: 0.6328341652800887\n",
      "F1 score: 0.6606832657788072\n"
     ]
    }
   ],
   "source": [
    "# Fit the logistic regression model to the training data\n",
    "lr = LogisticRegression(max_iter=10000)\n",
    "lr.fit(X_train, y_train)\n",
    "\n",
    "# Predict the target variable for the test data\n",
    "y_pred = lr.predict(X_test)\n",
    "\n",
    "# Evaluate the performance of the model using classification metrics\n",
    "print('Accuracy:', accuracy_score(y_test, y_pred))\n",
    "print('Precision:', precision_score(y_test, y_pred))\n",
    "print('Recall:', recall_score(y_test, y_pred))\n",
    "print('F1 score:', f1_score(y_test, y_pred))"
   ]
  },
  {
   "cell_type": "code",
   "execution_count": 10,
   "id": "fd73236a",
   "metadata": {},
   "outputs": [
    {
     "name": "stdout",
     "output_type": "stream",
     "text": [
      "Confusion Matrix:\n",
      " [[1892  510]\n",
      " [ 662 1141]]\n"
     ]
    }
   ],
   "source": [
    "# Calculate the confusion matrix of the model\n",
    "cm = confusion_matrix(y_test, y_pred)\n",
    "print('Confusion Matrix:\\n', cm)"
   ]
  },
  {
   "cell_type": "code",
   "execution_count": 11,
   "id": "e8b54bf3",
   "metadata": {},
   "outputs": [
    {
     "name": "stdout",
     "output_type": "stream",
     "text": [
      "  Variable  Coefficient\n",
      "1   type_A     0.711409\n",
      "0      age     0.046188\n",
      "3    lor_M     0.034612\n",
      "6  loyalty     0.002478\n",
      "5   prod_B    -0.386754\n",
      "2   type_B    -0.602556\n",
      "4   prod_A    -1.724426\n"
     ]
    }
   ],
   "source": [
    "# Get the coefficients of the logistic regression model\n",
    "coefs = pd.DataFrame({'Variable': X.columns, 'Coefficient': lr.coef_[0]})\n",
    "coefs = coefs.sort_values('Coefficient', ascending=False)\n",
    "print(coefs)"
   ]
  },
  {
   "cell_type": "code",
   "execution_count": 13,
   "id": "737c19f9",
   "metadata": {},
   "outputs": [
    {
     "data": {
      "image/png": "[encoded data removed]",
      "text/plain": [
       "<Figure size 432x288 with 2 Axes>"
      ]
     },
     "metadata": {
      "needs_background": "light"
     },
     "output_type": "display_data"
    }
   ],
   "source": [
    "# Plot the confusion matrix of the model\n",
    "plot_confusion_matrix(lr, X_test, y_test, cmap=plt.cm.Blues)\n",
    "plt.title('Confusion Matrix')\n",
    "plt.show()"
   ]
  },
  {
   "cell_type": "code",
   "execution_count": 14,
   "id": "bbbffa36",
   "metadata": {},
   "outputs": [
    {
     "data": {
      "image/png": "[encoded data removed]",
      "text/plain": [
       "<Figure size 432x288 with 1 Axes>"
      ]
     },
     "metadata": {
      "needs_background": "light"
     },
     "output_type": "display_data"
    }
   ],
   "source": [
    "# Plot the ROC curve of the model\n",
    "plot_roc_curve(lr, X_test, y_test)\n",
    "plt.title('Receiver Operating Characteristic (ROC) Curve')\n",
    "plt.show()"
   ]
  },
  {
   "cell_type": "markdown",
   "id": "1cdc85d3",
   "metadata": {},
   "source": [
    "The logistic regression model achieved an accuracy of 0.72, precision of 0.69, recall of 0.63, and F1 score of 0.66. These values indicate that the model is moderately accurate in predicting whether or not a customer is likely to purchase an additional product.\n",
    "\n",
    "The confusion matrix shows that the model correctly classified 1892 cases where the customer did not purchase an additional product and 1141 cases where the customer did purchase an additional product. However, there were 662 false negatives where the model incorrectly predicted that the customer would not purchase an additional product and 510 false positives where the model incorrectly predicted that the customer would purchase an additional product.\n",
    "\n",
    "The coefficients indicate that the most important predictor variable for whether a customer is likely to purchase an additional product is whether or not they previously bought Product A. Customers who previously bought Product A are more likely to purchase an additional product. The second most important predictor variable is age, followed by length of relationship with the company and loyalty level. Customers who are older, have a longer relationship with the company, and have higher loyalty levels are more likely to purchase an additional product.\n",
    "\n",
    "The coefficients for the Type_B and Prod_A columns are negative, indicating that customers who previously bought Product B or purchased Product A are less likely to purchase an additional product. The coefficient for the Prod_B column is also negative, although it is smaller in magnitude than the other coefficients, suggesting that this variable has a weaker impact on the classification decision."
   ]
  },
  {
   "cell_type": "markdown",
   "id": "485eeba2",
   "metadata": {},
   "source": [
    "## 3. Clearly state your conclusions along with any recommendations for further analysis."
   ]
  },
  {
   "cell_type": "markdown",
   "id": "ee798660",
   "metadata": {},
   "source": [
    "Based on the results of our logistic regression model, we have identified several important predictor variables for predicting whether a customer is likely to purchase an additional product. These variables include whether or not the customer previously bought Product A, age, length of relationship with the company, and loyalty level. Customers who previously bought Product A, are older, have a longer relationship with the company, and have higher loyalty levels are more likely to purchase an additional product.\n",
    "\n",
    "There are also several variables that have a negative impact on the classification decision, including whether or not the customer previously bought Product B or purchased Product A. These customers are less likely to purchase an additional product.\n",
    "\n",
    "In terms of recommendations for further analysis, one potential area of exploration could be to gather additional data on customer preferences and buying behavior to further improve the accuracy of the model. We could also explore other classification algorithms to determine whether they may provide better performance than logistic regression. Additionally, we could perform feature selection techniques such as Recursive Feature Elimination (RFE) or Principal Component Analysis (PCA) to identify the most important features in the dataset."
   ]
  },
  {
   "cell_type": "code",
   "execution_count": null,
   "id": "24b5edf1",
   "metadata": {},
   "outputs": [],
   "source": []
  }
 ],
 "metadata": {
  "kernelspec": {
   "display_name": "Python 3 (ipykernel)",
   "language": "python",
   "name": "python3"
  },
  "language_info": {
   "codemirror_mode": {
    "name": "ipython",
    "version": 3
   },
   "file_extension": ".py",
   "mimetype": "text/x-python",
   "name": "python",
   "nbconvert_exporter": "python",
   "pygments_lexer": "ipython3",
   "version": "3.9.7"
  }
 },
 "nbformat": 4,
 "nbformat_minor": 5
}
